{
  "nbformat": 4,
  "nbformat_minor": 0,
  "metadata": {
    "colab": {
      "provenance": [],
      "authorship_tag": "ABX9TyNEmOKpr/jc92J8huSl3BJh",
      "include_colab_link": true
    },
    "kernelspec": {
      "name": "python3",
      "display_name": "Python 3"
    },
    "language_info": {
      "name": "python"
    }
  },
  "cells": [
    {
      "cell_type": "markdown",
      "metadata": {
        "id": "view-in-github",
        "colab_type": "text"
      },
      "source": [
        "<a href=\"https://colab.research.google.com/github/NhuAn31231020088/NhuAn31231020088/blob/main/Untitled0.ipynb\" target=\"_parent\"><img src=\"https://colab.research.google.com/assets/colab-badge.svg\" alt=\"Open In Colab\"/></a>"
      ]
    },
    {
      "cell_type": "markdown",
      "source": [
        "**BÀI TẬP MẪU**"
      ],
      "metadata": {
        "id": "ZMDBxGhUJU61"
      }
    },
    {
      "cell_type": "markdown",
      "source": [
        "Bài 1. In chuỗi"
      ],
      "metadata": {
        "id": "AqG9jSwTHSJF"
      }
    },
    {
      "cell_type": "code",
      "source": [
        "print(\"Whoever is happy will make others happy too\");\n",
        "print(\"--Anne Frank\");"
      ],
      "metadata": {
        "colab": {
          "base_uri": "https://localhost:8080/"
        },
        "id": "UPXNLYzwHYoW",
        "outputId": "32486c09-44f4-43a2-f489-a2a09806db49"
      },
      "execution_count": 1,
      "outputs": [
        {
          "output_type": "stream",
          "name": "stdout",
          "text": [
            "Whoever is happy will make others happy too\n",
            "--Anne Frank\n"
          ]
        }
      ]
    },
    {
      "cell_type": "markdown",
      "source": [
        "Bài 2. Biểu thức tính toán"
      ],
      "metadata": {
        "id": "idPVYuaaITlI"
      }
    },
    {
      "cell_type": "code",
      "source": [
        "# Nhập dữ liệu\n",
        "a = int(input(\"Moi ban nhap so a: \"))\n",
        "b = int(input(\"Moi ban nhap so b: \"))\n",
        "# Xử lý\n",
        "kqCong = a + b\n",
        "kqTru = a - b\n",
        "kqNhan = a * b\n",
        "kqChiaNguyen = a // b\n",
        "kqDu= a % b\n",
        "kqChiaThuc = a / b\n",
        "# Xuất dữ liệu\n",
        "print(\"Cac ket qua tinh toan: \")\n",
        "print(\"%-5d + %5d = %5d\"%(a, b, kqCong))\n",
        "print(\"%-5d - %5d = %5d\"%(a, b, kqTru))\n",
        "print(\"%-5d * %5d = %5d\"%(a, b, kqNhan))\n",
        "print(\"%-5d / %5d = %5d\"%(a, b, kqChiaNguyen))\n",
        "print(\"%-5d / %5d = %5d\"%(a, b, kqDu))\n",
        "print(\"%-5d / %5d = %5.2f\"%(a, b, kqChiaThuc))"
      ],
      "metadata": {
        "colab": {
          "base_uri": "https://localhost:8080/"
        },
        "id": "vJaW-MAtIXgq",
        "outputId": "b033997e-7d36-4972-afeb-eaa5f75ced56"
      },
      "execution_count": 2,
      "outputs": [
        {
          "output_type": "stream",
          "name": "stdout",
          "text": [
            "Moi ban nhap so a: 5\n",
            "Moi ban nhap so b: 6\n",
            "Cac ket qua tinh toan: \n",
            "5     +     6 =    11\n",
            "5     -     6 =    -1\n",
            "5     *     6 =    30\n",
            "5     /     6 =     0\n",
            "5     /     6 =     5\n",
            "5     /     6 =  0.83\n"
          ]
        }
      ]
    },
    {
      "cell_type": "markdown",
      "source": [
        "Bài 3. Biểu thức so sánh"
      ],
      "metadata": {
        "id": "Vml8gbGLIv68"
      }
    },
    {
      "cell_type": "code",
      "source": [
        "# Nhập dữ liệu\n",
        "a = float(input(\"Moi ban nhap so a: \"))\n",
        "b = float(input(\"Moi ban nhap so b: \"))\n",
        "# Xử lý\n",
        "laNhoHon = (a < b)\n",
        "laNhoHonBang = (a <= b)\n",
        "laLonHon = (a > b)\n",
        "laLonHonBang = (a >= b)\n",
        "laBang = (a == b)\n",
        "laKhacNhau = (a != b)\n",
        "# Xuất dữ liệu\n",
        "print(\"Ket qua so sanh hai so thuc %.2f va %.2f:\"%(a, b))\n",
        "print(\"%-8.2f < %8.2f: %8s\"%(a, b, laNhoHon))\n",
        "print(\"%-8.2f <= %8.2f: %8s\"%(a, b, laNhoHonBang))\n",
        "print(\"%-8.2f > %8.2f: %8s\"%(a, b, laLonHon))\n",
        "print(\"%-8.2f >= %8.2f: %8s\"%(a, b, laLonHonBang))\n",
        "print(\"%-8.2f == %8.2f: %8s\"%(a, b, laBang))\n",
        "print(\"%-8.2f != %8.2f: %8s\"%(a, b, laKhacNhau))"
      ],
      "metadata": {
        "colab": {
          "base_uri": "https://localhost:8080/"
        },
        "id": "zA69Bw3yIgyi",
        "outputId": "bf1b6df9-8511-4ca4-9ee3-4d2a6b5b7dd4"
      },
      "execution_count": 3,
      "outputs": [
        {
          "output_type": "stream",
          "name": "stdout",
          "text": [
            "Moi ban nhap so a: 2.5\n",
            "Moi ban nhap so b: 6.8\n",
            "Ket qua so sanh hai so thuc 2.50 va 6.80:\n",
            "2.50     <     6.80:     True\n",
            "2.50     <=     6.80:     True\n",
            "2.50     >     6.80:    False\n",
            "2.50     >=     6.80:    False\n",
            "2.50     ==     6.80:    False\n",
            "2.50     !=     6.80:     True\n"
          ]
        }
      ]
    },
    {
      "cell_type": "markdown",
      "source": [
        "Bài 4. Tính giá trị hàm số"
      ],
      "metadata": {
        "id": "c262q-GLJDNY"
      }
    },
    {
      "cell_type": "code",
      "source": [
        "# Nạp thư viện\n",
        "import math\n",
        "# Nhập dữ liệu\n",
        "x = float(input(\"Moi ban nhap vao gia tri cua bien so x: \"))\n",
        "# Xử lý\n",
        "fx = x + math.pow(x, 5) / (1 * 2 * 3 * 4 * 5) + \\\n",
        "math.sqrt(abs(x)) / math.pow(x, 3.0 / 2)\n",
        "# Xuất dữ liệu\n",
        "print(\"Gia tri cua ham so f(%.2f) = %.2f.\"%(x, fx))"
      ],
      "metadata": {
        "colab": {
          "base_uri": "https://localhost:8080/"
        },
        "id": "Cnmgbt2EJGMb",
        "outputId": "f746374c-ab29-4e67-9041-495fd3aa721b"
      },
      "execution_count": 4,
      "outputs": [
        {
          "output_type": "stream",
          "name": "stdout",
          "text": [
            "Moi ban nhap vao gia tri cua bien so x: 2.3\n",
            "Gia tri cua ham so f(2.30) = 3.27.\n"
          ]
        }
      ]
    },
    {
      "cell_type": "markdown",
      "source": [
        "Bài 5. Tổng chữ số"
      ],
      "metadata": {
        "id": "ZyV7TMMTJaTy"
      }
    },
    {
      "cell_type": "code",
      "source": [
        "# Nhập dữ liệu\n",
        "n = int(input(\"Moi ban nhap so nguyen n (co bon chu so): \"))\n",
        "\n",
        "# Xử lý\n",
        "ngan = n // 1000\n",
        "tram = (n % 1000) // 100\n",
        "chuc = (n % 100) // 10\n",
        "don_vi = n % 10\n",
        "tong_chu_so = ngan + tram + chuc + don_vi\n",
        "\n",
        "# Xuất dữ liệu\n",
        "print(f\"{n} = {ngan} + {tram} + {chuc} + {don_vi} = {tong_chu_so}\")"
      ],
      "metadata": {
        "colab": {
          "base_uri": "https://localhost:8080/"
        },
        "id": "yUB-DDQQJdsq",
        "outputId": "920e97ef-2837-44da-e079-1982949aaaed"
      },
      "execution_count": 24,
      "outputs": [
        {
          "output_type": "stream",
          "name": "stdout",
          "text": [
            "Moi ban nhap so nguyen n (co bon chu so): 1234\n",
            "1234 = 1 + 2 + 3 + 4 = 10\n"
          ]
        }
      ]
    },
    {
      "cell_type": "markdown",
      "source": [
        "**BÀI TẬP THỰC HÀNH**"
      ],
      "metadata": {
        "id": "iDLi2or9JeBp"
      }
    },
    {
      "cell_type": "markdown",
      "source": [
        "Bài 1. In nhãn"
      ],
      "metadata": {
        "id": "jHoJvXEeJiY2"
      }
    },
    {
      "cell_type": "code",
      "source": [
        "print(\"**************************\");\n",
        "print(\"* Truong: Dai Hoc UEH    *\");\n",
        "print(\"* Khoa: CNTT             *\");\n",
        "print(\"* Ho ten:                *\");\n",
        "print(\"**************************\");"
      ],
      "metadata": {
        "colab": {
          "base_uri": "https://localhost:8080/"
        },
        "outputId": "c609128b-5a51-4ed9-d818-0f512fd342a9",
        "id": "ljNaPdpnJqIV"
      },
      "execution_count": 7,
      "outputs": [
        {
          "output_type": "stream",
          "name": "stdout",
          "text": [
            "**************************\n",
            "* Truong: Dai Hoc UEH    *\n",
            "* Khoa: CNTT             *\n",
            "* Ho ten:                *\n",
            "**************************\n"
          ]
        }
      ]
    },
    {
      "cell_type": "markdown",
      "source": [
        "Bài 2. Tính diện tích và chu vi hình tròn"
      ],
      "metadata": {
        "id": "q5t_19F4KM16"
      }
    },
    {
      "cell_type": "code",
      "source": [
        "# Nhập dữ liệu\n",
        "R = int(input(\"Nhap ban kinh R: \"))\n",
        "# Xử lý\n",
        "dien_tich_S = 3.14 * math.pow(R, 2)\n",
        "chu_vi_P = 2 * 3.14 * R\n",
        "# Xuất dữ liệu\n",
        "print(\"Dien tich S = %.1f\" % dien_tich_S)\n",
        "print(\"Chu vi P = %.1f\" % chu_vi_P)"
      ],
      "metadata": {
        "colab": {
          "base_uri": "https://localhost:8080/"
        },
        "id": "Y7Qvw0PxKP--",
        "outputId": "86f6db76-38c8-4cd7-ce35-ceda57b8c47f"
      },
      "execution_count": 20,
      "outputs": [
        {
          "output_type": "stream",
          "name": "stdout",
          "text": [
            "Nhap ban kinh R: 5\n",
            "Dien tich S = 78.5\n",
            "Chu vi P = 31.4\n"
          ]
        }
      ]
    },
    {
      "cell_type": "markdown",
      "source": [
        "Bài 3. Đổi sang giây"
      ],
      "metadata": {
        "id": "2ixj19MZMEe4"
      }
    },
    {
      "cell_type": "code",
      "source": [
        "# Nhập dữ liệu\n",
        "h = float(input(\"Nhap so gio: \"))\n",
        "m = float(input(\"Nhap so phut: \"))\n",
        "s = float(input(\"Nhap so giay: \"))\n",
        "# Xử lý\n",
        "tong_so_giay = h * 3600 + m * 60 + s\n",
        "# Xuất dữ liệu\n",
        "print(\"Tong so giay cua 1 = %.0f\" % tong_so_giay)"
      ],
      "metadata": {
        "colab": {
          "base_uri": "https://localhost:8080/"
        },
        "id": "EdrwYvSxMRk_",
        "outputId": "736052f6-9bc9-4247-8257-fafe792e135d"
      },
      "execution_count": 21,
      "outputs": [
        {
          "output_type": "stream",
          "name": "stdout",
          "text": [
            "Nhap so gio: 1\n",
            "Nhap so phut: 20\n",
            "Nhap so giay: 10\n",
            "Tong so giay cua 1 = 4810\n"
          ]
        }
      ]
    },
    {
      "cell_type": "markdown",
      "source": [
        "Bài 4. Đổi sang giờ phút giây"
      ],
      "metadata": {
        "id": "cGvRekgiNkc4"
      }
    },
    {
      "cell_type": "code",
      "source": [
        "# Nhập dữ liệu\n",
        "a = int(input(\"Nhap vao tong so giay: \"))\n",
        "# Xử lý\n",
        "gio = a // 3600\n",
        "so_giay_con_lai = a % 3600\n",
        "phut = so_giay_con_lai // 60\n",
        "giay = so_giay_con_lai % 60\n",
        "# Xuất dữ liệu\n",
        "print(f\"{a} giay co dang {gio}:{phut}:{giay}\")"
      ],
      "metadata": {
        "colab": {
          "base_uri": "https://localhost:8080/"
        },
        "id": "bzxFJ3tsNnTO",
        "outputId": "87f88b1f-676d-4e9c-fcc2-5ef85dbb5219"
      },
      "execution_count": 19,
      "outputs": [
        {
          "output_type": "stream",
          "name": "stdout",
          "text": [
            "Nhap vao tong so giay: 4810\n",
            "4810 giay co dang 1:20:10\n"
          ]
        }
      ]
    },
    {
      "cell_type": "markdown",
      "source": [
        "Bài 5. Tính diện tích tam giác"
      ],
      "metadata": {
        "id": "xYLlQqpIOjt8"
      }
    },
    {
      "cell_type": "code",
      "source": [
        "# Nhập dữ liệu\n",
        "a = int(input(\"Nhap do dai canh a: \"))\n",
        "b = int(input(\"Nhap do dai canh b: \"))\n",
        "c = int(input(\"Nhap do dai canh c: \"))\n",
        "# Xử lý\n",
        "p = (a + b + c) / 2\n",
        "S = math.sqrt(p * (p - a) * (p - b) * (p - c))\n",
        "# Xuất dữ liệu\n",
        "print(\"Dien tich tam giac S = %.2f\" % S)"
      ],
      "metadata": {
        "colab": {
          "base_uri": "https://localhost:8080/"
        },
        "id": "nAiQfoBzRE60",
        "outputId": "83177cd9-2ed2-4f80-b50d-fc3142d897e9"
      },
      "execution_count": 29,
      "outputs": [
        {
          "output_type": "stream",
          "name": "stdout",
          "text": [
            "Nhap do dai canh a: 2\n",
            "Nhap do dai canh b: 4\n",
            "Nhap do dai canh c: 3\n",
            "Dien tich tam giac S = 2.90\n"
          ]
        }
      ]
    },
    {
      "cell_type": "markdown",
      "source": [
        "Bài 6. Hàm mũ"
      ],
      "metadata": {
        "id": "SsTWPcCWSiDf"
      }
    },
    {
      "cell_type": "code",
      "source": [
        "# Nhập dữ liệu\n",
        "a = int(input(\"Nhap so thuc a: \"))\n",
        "b = int(input(\"Nhap so mu n: \"))\n",
        "# Xử lý\n",
        "c = a ** b\n",
        "# Xuất dữ liệu\n",
        "print(f\"Ket qua {a}^{b} = {c}\")"
      ],
      "metadata": {
        "colab": {
          "base_uri": "https://localhost:8080/"
        },
        "id": "z-EE3LUlSjm8",
        "outputId": "1b78de90-dab2-4f37-e774-ea43b4da9f9a"
      },
      "execution_count": 38,
      "outputs": [
        {
          "output_type": "stream",
          "name": "stdout",
          "text": [
            "Nhap so thuc a: 2\n",
            "Nhap so mu n: 4\n",
            "Ket qua 2^4 = 16\n"
          ]
        }
      ]
    },
    {
      "cell_type": "markdown",
      "source": [
        "Bài 7. Đảo số"
      ],
      "metadata": {
        "id": "-MiLYAqcT6Tm"
      }
    }
  ]
}
{
  "nbformat": 4,
  "nbformat_minor": 0,
  "metadata": {
    "colab": {
      "provenance": [],
      "toc_visible": true,
      "authorship_tag": "ABX9TyOyGyjG3L/1J8U1v3J5/sta",
      "include_colab_link": true
    },
    "kernelspec": {
      "name": "python3",
      "display_name": "Python 3"
    },
    "language_info": {
      "name": "python"
    }
  },
  "cells": [
    {
      "cell_type": "markdown",
      "metadata": {
        "id": "view-in-github",
        "colab_type": "text"
      },
      "source": [
        "<a href=\"https://colab.research.google.com/github/NhuAn31231020088/NhuAn31231020088/blob/main/buoi3.ipynb\" target=\"_parent\"><img src=\"https://colab.research.google.com/assets/colab-badge.svg\" alt=\"Open In Colab\"/></a>"
      ]
    },
    {
      "cell_type": "markdown",
      "source": [
        "Bài 1. In chuỗi"
      ],
      "metadata": {
        "id": "AqG9jSwTHSJF"
      }
    },
    {
      "cell_type": "code",
      "source": [],
      "metadata": {
        "id": "UPXNLYzwHYoW"
      },
      "execution_count": null,
      "outputs": []
    }
  ]
}